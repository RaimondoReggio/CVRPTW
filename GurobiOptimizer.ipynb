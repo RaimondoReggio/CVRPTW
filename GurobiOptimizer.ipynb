{
 "cells": [
  {
   "cell_type": "markdown",
   "metadata": {},
   "source": [
    "# Capacitated Vehicle Routing with Time Window\n",
    "\n",
    "## Definizione\n",
    "\n",
    "Il Capacited Vehicle Routing Problem (CVRP) è un'estensione del VRP. In un problema di CVRP, ogni veicolo ha una determinata capacità e non può caricare più merci della sua capacità. L'obiettivo è trovare il percorso ottimale minimizzando i costi di trasporto, il numero di veicoli usati e la qualità del servizio. Il Capacitated Vehicle Routing Problem with Time Windows è il CVRP con vincoli di tempo. In questa variante il cliente i-esimo può essere servitor solo in un dato periodo di tempo e con un tempo di servizio.\n",
    "\n",
    "Il CVRPTW è un problema di ottimizzazione combinatoria in cui, dato un grafo G(V,A):\n",
    "<ul>\n",
    "  <li>V: insieme dei vertici</li>\n",
    "  <li>A: insieme degli archi</li>\n",
    "  <li>Q: capacità dei veicolo</li>\n",
    "  <li>M: numero massimo di veicoli</li>\n",
    "</ul>\n",
    "\n",
    "Si vuole determinare una soluzione ammissibile formata da una famiglia di cluster veicoli / clienti dove, per ogni cluster, la capacità di un veicolo non è superata. Una generica soluzione T è dunque un insieme di cicli hamiltoniano cioè un insieme di percorsi che toccano tutti i nodi di un cluster una sola volta (partendo dal deposito).\n"
   ]
  },
  {
   "cell_type": "markdown",
   "metadata": {},
   "source": [
    "### Funzioni di supporto"
   ]
  },
  {
   "cell_type": "code",
   "execution_count": null,
   "metadata": {},
   "outputs": [],
   "source": [
    "import gurobipy as gb\n",
    "from gurobipy import *\n",
    "import re\n",
    "import math\n",
    "import matplotlib.pyplot as plt\n",
    "import networkx as nx\n",
    "\n",
    "# Calcolo della distanza tra due nodi\n",
    "def distance(node1, node2):\n",
    "    i = node1[\"coordinate\"]\n",
    "    j = node2[\"coordinate\"]\n",
    "    diff = (i[0] - j[0], i[1] - j[1])\n",
    "    return math.sqrt(diff[0] * diff[0] + diff[1] * diff[1])\n",
    "\n",
    "# Calcolo del tempo di viaggio tra due nodi\n",
    "def travel_time(node1, node2):\n",
    "    return round(distance(node1,node2), 1)\n",
    "\n",
    "# Calcola della matrice delle distanze: matrice in cui l'elemento (i,j) indica la distanza tra il nodi i-esimo e il nodo j-esimo\n",
    "def distance_matrix(problem):\n",
    "    problem[\"d_matrix\"] = {(i,j): distance(problem[\"nodes\"][i], problem[\"nodes\"][j]) for i in range(problem[\"nodes_num\"]) for j in range(problem[\"nodes_num\"]) if i != j}\n",
    "\n",
    "# Calcola della matrice dei tempi di viaggio: matrice in cui l'elemento (i,j) indica il tempo di viaggio tra il nodi i-esimo e il nodo j-esimo\n",
    "def travel_matrix(problem):\n",
    "    problem[\"t_matrix\"] = {(i,j): round(problem[\"d_matrix\"][i, j], 1) for i in range(problem[\"nodes_num\"]) for j in range(problem[\"nodes_num\"]) if i != j}\n"
   ]
  },
  {
   "cell_type": "markdown",
   "metadata": {},
   "source": [
    "### Caricamento del Dataset"
   ]
  },
  {
   "cell_type": "code",
   "execution_count": null,
   "metadata": {},
   "outputs": [],
   "source": [
    "#file = \"./Dataset/Homberger/C1_2_1.TXT\"\n",
    "file = \"../raimo/Desktop/RO_progetto/Dataset/Homberger/C1_2_1.TXT\"\n",
    "\n",
    "nodes_num = 0 # Numero di nodi\n",
    "nodes = [] # Lista di nodi\n",
    "\n",
    "f = open(file, \"r\")\n",
    "line = f.readline()\n",
    "line.strip(\"\\n\")\n",
    "name_istance = line\n",
    "\n",
    "for i in range (3):\n",
    "    line = f.readline() # Salto 3 linee\n",
    "\n",
    "line = f.readline()\n",
    "data = re.findall(r\"[-+]?\\d.\\d+|\\d+\", line)\n",
    "num_vh = int(data[0])\n",
    "capacity = int(data[1])  \n",
    "\n",
    "for i in range (4):\n",
    "    line = f.readline() # Salto 4 linee\n",
    "\n",
    "line = f.readline()\n",
    "while not line.startswith(\"EOF\"):\n",
    "    data = re.findall(r\"[-+]?\\d.\\d+|\\d+\", line)\n",
    "    coordinate = (int(data[1]), int(data[2]))\n",
    "    demand = int(data[3])\n",
    "    rdy_time = int(data[4])\n",
    "    due_date = int(data[5])\n",
    "    serv_time = int(data[6])\n",
    "    nodes.append({\"number\": nodes_num, \"coordinate\": coordinate, \"demand\": demand, \"rdy_time\": rdy_time, \"due_date\": due_date, \"service_time\": serv_time})\n",
    "    nodes_num += 1\n",
    "    line = f.readline()\n",
    "f.close()\n",
    "\n",
    "problem = {\"nodes_num\": nodes_num , \"nodes\": nodes, \"name_instance\": name_istance, \"num_veh\": num_vh, \"capacity\": capacity, \"d_matrix\": [] , \"t_matrix\": [] , \"routes\": []}\n",
    "\n",
    "distance_matrix(problem)\n",
    "travel_matrix(problem)\n",
    "\n",
    "print(nodes_num)\n"
   ]
  },
  {
   "cell_type": "markdown",
   "metadata": {},
   "source": [
    "### Struttura dati"
   ]
  },
  {
   "cell_type": "markdown",
   "metadata": {},
   "source": [
    "### Formulazione\n",
    "\n",
    "Le variabili utilizzate sono:\n",
    "- $x_{ij}$: 1 se l'arco $(i,j)$ è attraversato, 0 altrimenti\n",
    "- $a_{i}$: tempo di inizio del servizio al cliente $i-esimo$\n",
    "- $u_{i}$: quantità di domanda servita dal veicolo nel percorso dal deposito al nodo"
   ]
  },
  {
   "cell_type": "code",
   "execution_count": null,
   "metadata": {},
   "outputs": [],
   "source": [
    "mod = gb.Model('CVRP')\n",
    "x = mod.addVars(range(problem[\"nodes_num\"]), range(problem[\"nodes_num\"]), vtype=GRB.BINARY, name=\"X\")\n",
    "u = mod.addVars(range(problem[\"nodes_num\"]), vtype=GRB.INTEGER, name=\"U\")\n",
    "a = mod.addVars(range(problem[\"nodes_num\"]), vtype=GRB.INTEGER, name=\"A\")"
   ]
  },
  {
   "cell_type": "markdown",
   "metadata": {},
   "source": [
    "### Vincoli"
   ]
  },
  {
   "cell_type": "markdown",
   "metadata": {},
   "source": [
    "- Se il veicolo entra in i, deve anche uscire\n",
    "\n",
    "\\begin{equation}\n",
    "\\sum_{j \\in V} x_{ij} = \\sum_{j \\in V}^n x_{ji} \\quad \\; \\; \\forall \\;i \\; \\in \\; V\n",
    "\\tag{1}\n",
    "\\end{equation}\n",
    "\n",
    "- Dal deposito devono uscire non più di M veicoli\n",
    "\n",
    "\\begin{equation}\n",
    "\\sum\\limits_{j=1}^n x_{0j} \\leq M\n",
    "\\tag{2}\n",
    "\\end{equation}\n",
    "\n",
    "- Ad ogni cliente deve arrivare un unico veicolo\n",
    "\n",
    "\\begin{equation}\n",
    "\\sum_{j \\in V} x_{ij} = 1 \\quad \\; \\; \\forall \\;i \\; \\in \\; {1, .... , n}\n",
    "\\tag{1}\n",
    "\\end{equation}\n",
    "\n",
    "- Quando il camion parte dal deposito non ho ancora servito alcuna domanda\n",
    "\n",
    "\\begin{equation}\n",
    "u_{0} = 0\n",
    "\\tag{4}\n",
    "\\end{equation}\n",
    "\n",
    "- Quando il camion arriva al cliente i, la domanda totale servita deve essere minore della sua capacità\n",
    "\n",
    "\\begin{equation}\n",
    "u_{i} \\leq Q quad \\; \\; \\forall \\;i \\; \\in \\; V\n",
    "\\tag{4}\n",
    "\\end{equation}\n",
    "\n",
    "-  Vincolo di capacità e di assenza di sottogiri\n",
    "\n",
    "\\begin{equation}\n",
    "u_{i} - u_{j} \\geq d_{j}*x_{ij} - Q*(1 - x_{ij}) \\quad \\; \\; \\;i,j \\; \\in \\; V, \\;i \\neq j, \\;j \\neq 1\n",
    "\\tag{4}\n",
    "\\end{equation}\n",
    "\n",
    "- Se un camion $k$ attraversa l'arco $(i,j)$ allora servirò $j$ dopo aver servito il cliente $i$\n",
    "\n",
    "\\begin{equation}\n",
    "a_{j} \\geq (a_{i} + t_{i} + t_{ij}) - (1 - x_{ij}) * T \\quad \\; \\; \\; i,j \\in V\n",
    "\\end{equation}\n",
    "\n",
    "- Se arrivo in j nella sua finestra temporale lo servo subito\n",
    "\n",
    "\\begin{equation}\n",
    "a_{j} \\leq (a_{i} + t_{i} + t_{ij}) + (1 - x_{ij}) * T \\quad \\; \\; \\; i,j \\in V\n",
    "\\end{equation}\n",
    "\n",
    "- L'orario di inizio per servire il nodo $i$ deve essere incluso nella finestra temporale del nodo\n",
    "\n",
    "\\begin{equation}\n",
    "l_{j} \\leq a_{j} \\leq L_{j} \n",
    "\\end{equation}"
   ]
  },
  {
   "cell_type": "code",
   "execution_count": null,
   "metadata": {},
   "outputs": [],
   "source": [
    "mod.addConstrs((gb.quicksum(x.select(i, '*')) - gb.quicksum(x.select('*', i)) == 0 for i in range(problem[\"nodes_num\"])), \"Trasporto\")\n",
    "mod.addConstr(gb.quicksum(x.select(0, '*')) <= problem[\"num_veh\"], \"NumeroVeicoli\")\n",
    "mod.addConstrs((gb.quicksum(x.select(i, '*')) == 1 for i in range(1,problem[\"nodes_num\"])), \"VeicoliCliente\")\n",
    "mod.addConstr((u[0] == 0), \"DomandaIniziale\")\n",
    "mod.addConstrs((u[i] <= problem[\"capacity\"] for i in range(problem[\"nodes_num\"])), \"CapacitàMassima\")\n",
    "mod.addConstrs((u[j] - u[i] >= problem[\"nodes\"][j][\"demand\"] * x[i, j] - problem[\"capacity\"] * (1 - x[i, j]) for i in range(problem[\"nodes_num\"]) for j in range(problem[\"nodes_num\"]) if i != j and j != 0), \"Sottogiri&capacità\")\n",
    "mod.addConstrs((x[i, i] == 0 for i in range(problem[\"nodes_num\"])), \"ArchiRicorsivi\")\n",
    "mod.addConstrs((a[j] >= (a[i] + problem[\"nodes\"][i][\"service_time\"] + problem[\"t_matrix\"][i,j]) - 1000000 * (1 - x[i, j]) for i in range(problem[\"nodes_num\"]) for j in range(1, problem[\"nodes_num\"]) if i != j), \"VincoloTempo1\")\n",
    "mod.addConstrs((a[j] <= (a[i] + problem[\"nodes\"][i][\"service_time\"] + problem[\"t_matrix\"][i,j]) + 1000000 + (1 - x[i,j]) for i in range(problem[\"nodes_num\"]) for j in range(problem[\"nodes_num\"]) if i != j), \"VincoloTempo2\")\n",
    "mod.addConstrs((a[j] <= problem[\"nodes\"][j][\"due_date\"] for j in range(problem[\"nodes_num\"])), \"FinestreTemporali1\")\n",
    "mod.addConstrs((a[j] >= problem[\"nodes\"][j][\"rdy_time\"] for j in range(problem[\"nodes_num\"])), \"FinestreTemporali2\")\n",
    "#mod.addConstr((a[0] == 0), \"FinestreTemporali4\")\n",
    "#mod.addConstrs(((a[i] + problem[\"nodes\"][i][\"service_time\"] + problem[\"t_matrix\"][i, 0]) <= 10000 * (1 - x[i, 0]) + problem[\"nodes\"][0][\"due_date\"] * x[i, 0] for i in range(1, problem[\"nodes_num\"])), \"FinestreTemporali5\")"
   ]
  },
  {
   "cell_type": "code",
   "execution_count": null,
   "metadata": {},
   "outputs": [],
   "source": [
    "obj = (gb.quicksum(problem[\"t_matrix\"][i, j] * x[i, j] for i in range(problem[\"nodes_num\"]) for j in range(problem[\"nodes_num\"]) if i != j))\n",
    "mod.setObjective(obj, GRB.MINIMIZE)\n",
    "mod.optimize()"
   ]
  }
 ],
 "metadata": {
  "kernelspec": {
   "display_name": "Python 3",
   "language": "python",
   "name": "python3"
  },
  "language_info": {
   "codemirror_mode": {
    "name": "ipython",
    "version": 3
   },
   "file_extension": ".py",
   "mimetype": "text/x-python",
   "name": "python",
   "nbconvert_exporter": "python",
   "pygments_lexer": "ipython3",
   "version": "3.8.5"
  }
 },
 "nbformat": 4,
 "nbformat_minor": 2
}
